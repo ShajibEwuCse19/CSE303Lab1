{
  "cells": [
    {
      "cell_type": "markdown",
      "metadata": {
        "id": "3gKNio_pnB4Z"
      },
      "source": [
        "**Basic Input Output**"
      ]
    },
    {
      "cell_type": "code",
      "execution_count": null,
      "metadata": {
        "id": "Vqq41EK_m8D-"
      },
      "outputs": [],
      "source": [
        "print(\"Hello World\")\n",
        "\n",
        "name = \"Shajib\"\n",
        "age = 23\n",
        "print(\"My name is %s and I'm %d years old\"%(name,age))\n",
        "\n",
        "name = input(\"Enter your name: \")\n",
        "age = int(input(\"Enter your age: \"))\n",
        "print(f\"{name} is {age} years old\")"
      ]
    },
    {
      "cell_type": "markdown",
      "metadata": {
        "id": "BPSgK-m7oQUJ"
      },
      "source": [
        "**Operators and Conditinal Statement**"
      ]
    },
    {
      "cell_type": "code",
      "execution_count": null,
      "metadata": {
        "id": "ursv1wIOoOXh"
      },
      "outputs": [],
      "source": [
        "n = 5\n",
        "inp = int(input(\"Enter a number : \"))\n",
        "\n",
        "if inp>5:\n",
        "  print(\"%d is smaller than %d\"%(n,inp))\n",
        "elif inp<5:\n",
        "  print(\"%d is bigger than %d\"%(n,inp))\n",
        "elif inp == n:\n",
        "  print(\"Numbers are equal\")\n",
        "\n",
        "if(n!=inp):\n",
        "  print(\"Numbers are not equal\")"
      ]
    },
    {
      "cell_type": "code",
      "execution_count": null,
      "metadata": {
        "id": "4ynUG3lQpgdU"
      },
      "outputs": [],
      "source": [
        "marks = 60\n",
        "n = int(input(\"Enter your exam marks: \"))\n",
        "if n<=marks-1:\n",
        "  print(\"Your result is fail.\")\n",
        "elif n>=marks:\n",
        "  print(\"Your result is pass.\")\n",
        "\n",
        "if(n>=90):\n",
        "  print(\"You got A+\")"
      ]
    },
    {
      "cell_type": "code",
      "execution_count": null,
      "metadata": {
        "id": "WnsSDpHaqgov"
      },
      "outputs": [],
      "source": [
        "marks = int(input(\"Enter your marks : \"))\n",
        "\n",
        "if marks>=97:\n",
        "  print(\"Result : A+\")\n",
        "elif marks>=90:\n",
        "  print(\"Result : A\")\n",
        "elif marks<90 and marks>=80:\n",
        "  print(\"Result : B\")\n",
        "elif marks<80 and marks>=70:\n",
        "  print(\"Result : C\")\n",
        "elif marks<70 and marks>=60:\n",
        "  print(\"Result : C\")\n",
        "else:\n",
        "  print(\"Result : Fail\")"
      ]
    },
    {
      "cell_type": "code",
      "execution_count": null,
      "metadata": {
        "id": "qMYlclLtsAup"
      },
      "outputs": [],
      "source": [
        "#Checking Leap Year\n",
        "year = int(input(\"Enter any year : \"))\n",
        "\n",
        "if year%4 == 0 and year%100 !=0 or year%400==0:\n",
        "  print(\"%d is Leap Year\"%(year))\n",
        "else:\n",
        "  print(\"%d is not leap year\"%(year))"
      ]
    },
    {
      "cell_type": "markdown",
      "metadata": {
        "id": "H-2AbGZ8tEcl"
      },
      "source": [
        "**Loop**"
      ]
    },
    {
      "cell_type": "code",
      "execution_count": null,
      "metadata": {
        "id": "Qjs0FjfEtDV1"
      },
      "outputs": [],
      "source": [
        "n = 5\n",
        "for i in range(n):\n",
        "  for j in range(i):\n",
        "    print(\"#\",end=\"\")\n",
        "  print(\"\\n\")\n",
        "\n",
        "list = [1,2,3,4]\n",
        "for i in list:\n",
        "  print(i,end=\" \")"
      ]
    },
    {
      "cell_type": "markdown",
      "metadata": {
        "id": "OMeHzDrFt-Tf"
      },
      "source": [
        "**List**, **Touple**, **Set**, **Dictonary**"
      ]
    },
    {
      "cell_type": "code",
      "execution_count": null,
      "metadata": {
        "id": "AkYgEcXJuCjH"
      },
      "outputs": [],
      "source": [
        "list = [1,2,\"Shajib\", \"EWU\", 1.50, 5/2, 5//2] #work with multipe datatype\n",
        "print(\"Print List : \",end=\"\")\n",
        "for i in list:\n",
        "  print(i, end=\" \")\n",
        "print(\"\\nPrint Touple : \", end=\"\")\n",
        "touple = (2.5, \"Shajib\")\n",
        "print(touple)\n",
        "\n",
        "print(\"Print Set : \",end=\"\")\n",
        "set = {1,2,1,1,2,3,4,4,4,5,5,5,5} #remove duplicate\n",
        "print(set)\n",
        "\n",
        "dic = {1:'a', 2:'b', 3:'c'}#key value\n",
        "print(dic)\n",
        "print(dic[2])"
      ]
    },
    {
      "cell_type": "markdown",
      "metadata": {
        "id": "4eBtHApMvmia"
      },
      "source": [
        "**Use of List Methods**"
      ]
    },
    {
      "cell_type": "code",
      "execution_count": null,
      "metadata": {
        "id": "3C3tNNlvvrys"
      },
      "outputs": [],
      "source": [
        "list = [10, 10, 10, 20, 30, \"Shajib\", 'a', 'b', 'c']\n",
        "print(\"My List : \",list)\n",
        "\n",
        "list.append(\"Hasib\")\n",
        "print(\"After append() : \",list)\n",
        "\n",
        "CopyList = list.copy()\n",
        "print(\"List after copy : \",CopyList)\n",
        "\n",
        "CopyList.clear()\n",
        "print(\"Clear Copied List = \",CopyList)\n",
        "\n",
        "print(\"Count of 10 is : \",list.count(10))\n",
        "print(\"Index of 20 is : \",list.index(20))\n",
        "\n",
        "list.insert(5,\"Rakib\")\n",
        "print(\"Insert Rakib in index 5 : \",list)\n",
        "\n",
        "list.pop(0)\n",
        "list.pop(1)\n",
        "print(\"Remove index 0,1 from the list : \",list)\n",
        "\n",
        "list.remove(30)\n",
        "print(\"Remove 30 from the list : \",list)\n",
        "\n",
        "list.reverse()\n",
        "print(\"My List after reverse : \",list)\n",
        "\n",
        "newList = [4, 5, 2, 1, 3]\n",
        "newList.sort()\n",
        "print(\"My List after sort : \",newList)\n",
        "\n",
        "list.extend(newList)\n",
        "print(\"Concate 2 list using extend : \",list)"
      ]
    },
    {
      "cell_type": "markdown",
      "metadata": {
        "id": "5YKMkX7F0F7m"
      },
      "source": [
        "**Use of Dictonary Method**"
      ]
    },
    {
      "cell_type": "code",
      "execution_count": null,
      "metadata": {
        "id": "YwuH_VCAyiiz"
      },
      "outputs": [],
      "source": [
        "dic = {1:'a', 2:'b', 3:'c', 4:'d', 5:'e'}\n",
        "print(\"My Dictonary : \",dic)\n",
        "\n",
        "print(\"Element in key 3 : \",dic[3])\n",
        "\n",
        "dic2 = dic.copy()\n",
        "print(\"My Dictonary2 after copye : \",dic2)\n",
        "\n",
        "dic2.clear()\n",
        "print(\"My Dictonary2 after clear : \",dic2)\n",
        "\n",
        "x = ('k1', 'k2', 'k3')\n",
        "y = 5\n",
        "thisdict = dict.fromkeys(x, y)\n",
        "print(\"My Dictonary : \",thisdict)\n",
        "\n",
        "print(\"Value in key(5) : \",dic.get(5))\n",
        "\n",
        "print(\"All item/value : \",dic.items())\n",
        "print(\"All key list : \",dic.keys())\n",
        "\n",
        "dic.pop(5)\n",
        "print(\"My Dictonary after remove key(5) : \",dic)\n",
        "\n",
        "dic.popitem()\n",
        "print(\"My Dictonary after remove Last item : \",dic)\n",
        "\n",
        "dic.setdefault(3,'c')#already in the dict\n",
        "dic.setdefault(4,'d')#not in current dict\n",
        "print(\"My Dictonary : \",dic)#set the new key(4) with value\n",
        "\n",
        "print(\"All values : \",dic.values())\n",
        "\n",
        "dic.update({1:'x'})\n",
        "print(\"My Dictonary after update key(1) : \",dic)\n"
      ]
    },
    {
      "cell_type": "markdown",
      "metadata": {
        "id": "Al6kCRc94jUo"
      },
      "source": [
        "**Functions**"
      ]
    },
    {
      "cell_type": "code",
      "execution_count": null,
      "metadata": {
        "id": "pMQHZP0K4oyj"
      },
      "outputs": [],
      "source": [
        "def sum(a,b):\n",
        "  return a+b\n",
        "\n",
        "#printing fibonacci series\n",
        "n = int(input(\"Enter value : \"))\n",
        "\n",
        "if n==1:\n",
        "  print(0)\n",
        "elif n==2:\n",
        "  print(0,end=\" \")\n",
        "  print(1)\n",
        "else:\n",
        "  l = 0\n",
        "  r = 1\n",
        "  print(l,end=\" \")\n",
        "  print(r,end=\" \")\n",
        "  while n>2:\n",
        "    temp = sum(l,r)\n",
        "    print(temp,end=\" \")\n",
        "    l = r\n",
        "    r = temp\n",
        "    n = n - 1"
      ]
    },
    {
      "cell_type": "markdown",
      "metadata": {
        "id": "OAznuBPR6XZx"
      },
      "source": [
        "**Indexing and Slicing**"
      ]
    },
    {
      "cell_type": "code",
      "execution_count": null,
      "metadata": {
        "id": "Ut6hSbkE6bED"
      },
      "outputs": [],
      "source": [
        "list = [1, 2, 3, 'a', 'b', 'c']\n",
        "print(\"My List : \",list)\n",
        "print(\"Index 0 : \",list[0])\n",
        "print(\"Last index value using len : \",list[len(list)-1])\n",
        "print(\"Last index value using negaive index : \",list[-1])\n",
        "\n",
        "print(\"My List : \",list[:])\n",
        "print(\"My List : \",list[:4])\n",
        "print(\"My List : \",list[2:5])\n",
        "print(\"My List : \",list[0:len(list):2])#increment 2\n",
        "print(\"My List : \",list[:-2])\n",
        "print(\"My List : \",list[2:-2])"
      ]
    }
  ],
  "metadata": {
    "colab": {
      "collapsed_sections": [],
      "provenance": []
    },
    "kernelspec": {
      "display_name": "Python 3.10.5 64-bit",
      "language": "python",
      "name": "python3"
    },
    "language_info": {
      "name": "python",
      "version": "3.10.5"
    },
    "vscode": {
      "interpreter": {
        "hash": "aadae05b045b8b9ccc7d61ba4dd0007d33402f4a81aed8f9abdb77c4ad3d0232"
      }
    }
  },
  "nbformat": 4,
  "nbformat_minor": 0
}
